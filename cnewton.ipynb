{
 "cells": [
  {
   "cell_type": "markdown",
   "id": "fca71b5c",
   "metadata": {},
   "source": [
    "# Computational Mathematics\n",
    "## An Introduction to Numerical Analysis and Scientific Computing with Python\n",
    "### By Dimitrios Mitsotakis"
   ]
  },
  {
   "cell_type": "markdown",
   "id": "19fc7a8e",
   "metadata": {},
   "source": [
    "# Complex Step Newton Method"
   ]
  },
  {
   "cell_type": "markdown",
   "id": "f73037e3",
   "metadata": {},
   "source": [
    "Here we implement a variant of complex step Newton method. The first part implements the algorithm for scalar equations, as it is described in the book \"Computational Mathematics\" by D. Mitsotakis. The second part has a variant of this method for systems of nonlinear equations equations.\n",
    "\n",
    "As input you need to enter a function `f`, an initial guess `x0`, the number of allowed iterations `maxit` and a tolerance `tol` for detecting convergence. You can also optionally set the small parameter `h`. This can be very small number and by default is `1.e-10`.\n",
    "\n",
    "The function `cnewton` returns a tuple. The first entry if this tuple is the solution. The number of required iterations and an estimateted error follows.\n",
    "\n",
    "For details about the derivation and theory please refer to the article \"D. Mitsotakis, The complex-step Newton method and its convergence, Numerische Mathematik, 157(2025), 993-1021\" DOI:10.1007/s00211-025-01471-w\n",
    "https://link.springer.com/article/10.1007/s00211-025-01471-w"
   ]
  },
  {
   "cell_type": "code",
   "execution_count": 1,
   "id": "eb4de259",
   "metadata": {},
   "outputs": [],
   "source": [
    "import numpy as np\n",
    "import numpy.linalg as npl"
   ]
  },
  {
   "cell_type": "code",
   "execution_count": 2,
   "id": "e2850060",
   "metadata": {},
   "outputs": [],
   "source": [
    "def cnewton(f,x0,maxit,tol,h=1.e-10):\n",
    "\n",
    "    # This is an implementaion of the complex step Newton method\n",
    "    # as it is described in the book \"Computational Mathematics\"\n",
    "    # by D. Mitsotakis in one-dimension and forming the Jacobian \n",
    "    # matrix in high-dimensional problems\n",
    "    \n",
    "    error = 1.0\n",
    "    iters = 0\n",
    "    \n",
    "    if type(x0)==float or type(x0)==int:\n",
    "        x = float(x0)\n",
    "        # Complex step Newton method for scalar equations\n",
    "        while (iters<=maxit and error >= tol):\n",
    "            deriv=f(x+1j*h)\n",
    "            x = x - h*f(x)/deriv.imag\n",
    "            error = np.abs(x-x0)\n",
    "            x0 = x\n",
    "            iters += 1\n",
    "    else:\n",
    "        # Complex step Newton method for systems of equations\n",
    "        x0 = np.array(list(x0))\n",
    "        n = len(x0)\n",
    "        x = x0.copy() \n",
    "        J = np.zeros((n,n))\n",
    "        F = f(x)\n",
    "        if (len(F)!=n):\n",
    "            raise (InterruptExecution('f must be agree in dimension with x0'))\n",
    "        while (iters<=maxit and error >= tol):\n",
    "            for j in range(n):\n",
    "                xx = x.copy()+1j*0.0\n",
    "                xx[j]=x[j]+1j*h\n",
    "                F = f(xx).imag\n",
    "                for i in range(n):\n",
    "                    J[i,j]=F[i]\n",
    "            b1 = f(x)\n",
    "            b = npl.solve(J,b1)\n",
    "            x = x - h*b\n",
    "            xx2 = x-x0\n",
    "            error = npl.norm(xx2,np.inf)\n",
    "            x0 = x.copy()\n",
    "            iters+=1\n",
    "\n",
    "    return x,iters,error"
   ]
  },
  {
   "cell_type": "markdown",
   "id": "c5851131",
   "metadata": {},
   "source": [
    "We test our code for the system:\n",
    "\n",
    "$$\n",
    "\\begin{aligned}\n",
    "&x_1+0.25x_2^2=1.25\\\\\n",
    "&0.25x_1^2+x_2=1.25\n",
    "\\end{aligned}\n",
    "$$\n",
    "\n",
    "which has exact solution $x^\\ast=(1,1)$."
   ]
  },
  {
   "cell_type": "code",
   "execution_count": 3,
   "id": "d8fdd746",
   "metadata": {},
   "outputs": [],
   "source": [
    "def f(x):\n",
    "    y = np.zeros_like(x)\n",
    "    y[0]=x[0]+0.25*x[1]**2-1.25\n",
    "    y[1]=0.25*x[0]**2+x[1]-1.25\n",
    "    return y"
   ]
  },
  {
   "cell_type": "code",
   "execution_count": 4,
   "id": "6d6077fc",
   "metadata": {},
   "outputs": [
    {
     "name": "stdout",
     "output_type": "stream",
     "text": [
      "Required iterations =  5\n",
      "Solution =  [1. 1.]\n",
      "Error =  [-2.22044605e-16 -2.22044605e-16]\n"
     ]
    }
   ],
   "source": [
    "x0 = [0.0,0.0]\n",
    "\n",
    "xx=cnewton(f,x0,maxit=100,tol=1.e-10,h=1.e-3)\n",
    "\n",
    "print('Required iterations = ', xx[1])\n",
    "print('Solution = ', xx[0])\n",
    "print('Error = ', f(xx[0]))"
   ]
  },
  {
   "cell_type": "markdown",
   "id": "6dcb6784",
   "metadata": {},
   "source": [
    "# Efficient implementation using Krylov methods"
   ]
  },
  {
   "cell_type": "markdown",
   "id": "fb70edbf",
   "metadata": {},
   "source": [
    "The convenient expression of the complex-step Newton method as a Newton-Krylov method leads to an efficient implementation without the need of assembling the Jacobi matrix. For this reason, the complex-step Newton method is also know as Jacobian-free Newton method. The following code demonstrates the implementation of the complex-step Newton method with the GMRES method."
   ]
  },
  {
   "cell_type": "code",
   "execution_count": 5,
   "id": "6f45d7e1",
   "metadata": {},
   "outputs": [],
   "source": [
    "import numpy as np\n",
    "import scipy as sp\n",
    "import scipy.sparse as sps\n",
    "import scipy.sparse.linalg as spsl\n",
    "import numpy.linalg as npl\n",
    "import scipy.linalg as spl\n",
    "from scipy.sparse.linalg import LinearOperator\n",
    "from scipy.sparse.linalg import gmres, lgmres\n"
   ]
  },
  {
   "cell_type": "code",
   "execution_count": 6,
   "id": "f4a18762",
   "metadata": {},
   "outputs": [],
   "source": [
    "def cnewtonv(f, x0, maxit = 100, tol = 1.e-10, h = 1.e-10):\n",
    "\n",
    "    # Here F is a Pythonic LinearOperator to use instead of matrix-vector multiplication\n",
    "\n",
    "    error = 1.0\n",
    "    iters = 0\n",
    "    \n",
    "    def mv(u):\n",
    "        # create matrix vector multiplication as linear operator\n",
    "\n",
    "        z = f(x+1j*h*u).imag\n",
    "    \n",
    "        return z\n",
    "\n",
    "    # Complex step Newton method for systems of equations\n",
    "    x0 = np.array(list(x0))\n",
    "    n = len(x0)\n",
    "    x = x0.copy() \n",
    "    \n",
    "    \n",
    "    n = len(x0)\n",
    "    A = LinearOperator( (n,n), matvec=mv )\n",
    "    \n",
    "    b = f(x)\n",
    "    if (len(b)!=n):\n",
    "        raise (InterruptExecution('f must be agree in dimension with x0'))\n",
    "    while (iters<=maxit and error >= tol):\n",
    "        \n",
    "        b = h*f(x)\n",
    "                \n",
    "#         (b, info) = gmres(A, b, x, tol, maxit)\n",
    "        (b, info) = lgmres(A, b, x, rtol=tol, maxiter=maxit, atol=tol)\n",
    "\n",
    "        x = x - b\n",
    "        \n",
    "        error = npl.norm(b,np.inf)\n",
    "\n",
    "        iters+=1\n",
    "\n",
    "    return x,iters,error"
   ]
  },
  {
   "cell_type": "code",
   "execution_count": 7,
   "id": "abda50e5",
   "metadata": {},
   "outputs": [],
   "source": [
    "def f(x):\n",
    "    y = np.zeros_like(x)\n",
    "    y[0]=x[0]+0.25*x[1]**2-1.25\n",
    "    y[1]=0.25*x[0]**2+x[1]-1.25\n",
    "    return y"
   ]
  },
  {
   "cell_type": "code",
   "execution_count": 8,
   "id": "2b0ce600",
   "metadata": {},
   "outputs": [
    {
     "name": "stdout",
     "output_type": "stream",
     "text": [
      "Required iterations =  5\n",
      "Solution =  [1. 1.]\n",
      "Error =  [-4.4408921e-16 -4.4408921e-16]\n"
     ]
    }
   ],
   "source": [
    "x0 = [0.0,0.0]\n",
    "\n",
    "xx=cnewtonv(f,x0,maxit=100,tol=1.e-10,h=1.e-3)\n",
    "\n",
    "print('Required iterations = ', xx[1])\n",
    "print('Solution = ', xx[0])\n",
    "print('Error = ', f(xx[0]))"
   ]
  },
  {
   "cell_type": "markdown",
   "id": "d48ec886-9496-4593-987b-9a357ecff11e",
   "metadata": {},
   "source": [
    "## A convergence test"
   ]
  },
  {
   "cell_type": "markdown",
   "id": "66a40a40-e094-4ec5-a26f-4894a54115a9",
   "metadata": {},
   "source": [
    "This example demonstrates the difference in the speed of convergence between complex-step Newton method and its Jacobian-free variance.  "
   ]
  },
  {
   "cell_type": "code",
   "execution_count": 9,
   "id": "f735b6bb-2911-4dea-badc-93b7a3f169ea",
   "metadata": {
    "tags": []
   },
   "outputs": [
    {
     "name": "stdout",
     "output_type": "stream",
     "text": [
      "solution= 7.257823741311388e-17 iterations= 14 error= 1.1857499802947735e-15\n"
     ]
    }
   ],
   "source": [
    "def f(x):\n",
    "    y = x*(np.exp(x/2.0)+1.0)\n",
    "    return y\n",
    "\n",
    "x0 = 2.5\n",
    "maxit = 100\n",
    "h=1.0\n",
    "tol=1.e-14\n",
    "\n",
    "xstar, iters, error = cnewton(f,x0,maxit,tol,h)\n",
    "\n",
    "print('solution=',xstar,'iterations=',iters,'error=',error)"
   ]
  },
  {
   "cell_type": "code",
   "execution_count": 10,
   "id": "488c8d7f-2a1f-46e7-96e5-32a208465d7a",
   "metadata": {
    "tags": []
   },
   "outputs": [
    {
     "name": "stdout",
     "output_type": "stream",
     "text": [
      "solution= [0. 0.] iterations= 7 error= 0.0\n"
     ]
    }
   ],
   "source": [
    "def f(x):\n",
    "    y1 = x[0]*(np.exp(x[0]/2.0)+1.0)\n",
    "    y2 = x[1]*(np.exp(x[1]/2.0)+1.0)\n",
    "    return np.array([y1, y2])\n",
    "\n",
    "x0 = [2.5, 2.5]\n",
    "maxit = 100\n",
    "h=1.0\n",
    "tol=1.e-14\n",
    "\n",
    "xstar, iters, error = cnewtonv(f,x0,maxit,tol,h)\n",
    "\n",
    "print('solution=',xstar,'iterations=',iters,'error=',error)"
   ]
  },
  {
   "cell_type": "markdown",
   "id": "ee116b2d",
   "metadata": {},
   "source": [
    "## Application in solving stiff ordinary differential equations"
   ]
  },
  {
   "cell_type": "markdown",
   "id": "3cef8ec9",
   "metadata": {},
   "source": [
    "Here we demonstrate the applicability of the complex-step Newton method in solving stiff ordinary differential equations. \n",
    "\n",
    "We consider the initial value problem\n",
    "$$\n",
    "y'(t)=-50(y(t)-\\cos(t))\\quad \\text{for}\\quad t>0,\n",
    "$$\n",
    "$$\n",
    "y(0)=0,\n",
    "$$\n",
    "and we will attempt solving it using the Gauss-Legendre Runge-Kutta method of order 4.\n",
    "\n",
    "\n",
    "More information about this example can be found in the book: Hairer, E. and Wanner, G., Solving ordinary differential equations II: Stiff and differential-algebraic problems, Springer."
   ]
  },
  {
   "cell_type": "code",
   "execution_count": 11,
   "id": "ea2d97e8",
   "metadata": {},
   "outputs": [],
   "source": [
    "import matplotlib.pyplot as plt"
   ]
  },
  {
   "cell_type": "code",
   "execution_count": 12,
   "id": "2639fe6b",
   "metadata": {},
   "outputs": [
    {
     "name": "stdout",
     "output_type": "stream",
     "text": [
      "150\n"
     ]
    }
   ],
   "source": [
    "\n",
    "# setup initial values\n",
    "y0 = 0.0\n",
    "\n",
    "# setup numerical time domain and discretization parameters\n",
    "t0 = 0.0\n",
    "Tfinal = 1.5\n",
    "dt = 0.01\n",
    "Nstep = int(Tfinal/dt)\n",
    "\n",
    "print(Nstep)\n",
    "\n",
    "# solution\n",
    "y = y0\n",
    "solution = np.zeros(1)\n",
    "time = np.zeros(1)\n",
    "solution[0] = y0\n",
    "time = t0    "
   ]
  },
  {
   "cell_type": "code",
   "execution_count": 13,
   "id": "429c56ba",
   "metadata": {},
   "outputs": [],
   "source": [
    "# Definte the Runge-Kutta method\n",
    "def f(k):\n",
    "\n",
    "    F = lambda t,x : -50.0*(y-np.cos(t))\n",
    "\n",
    "    kk = np.zeros_like(k)\n",
    "\n",
    "    k1 = k[:n]\n",
    "    k2 = k[n:]\n",
    "\n",
    "    kk1 = F(t+c[0]*dt,y+dt*(A[0,0]*k1+A[0,1]*k2))-k1\n",
    "    kk2 = F(t+c[1]*dt,y+dt*(A[1,0]*k1+A[1,1]*k2))-k2\n",
    "\n",
    "    kk[:n]=kk1.copy()\n",
    "    kk[n:]=kk2.copy()\n",
    "\n",
    "    return kk\n",
    "\n",
    "def mv(u):\n",
    "    # create matrix vector multiplication as linear operator\n",
    "\n",
    "    z = f(k+1j*h*u).imag\n",
    "\n",
    "    return z\n",
    "# Gauss-Legendre Runge-Kutta 4th order\n",
    "\n",
    "A = np.zeros((2,2))\n",
    "A[0,0] = 1.0/4.0\n",
    "A[0,1] = 1.0/4.0 -np.sqrt(3.0)/6.0\n",
    "A[1,0] = 1.0/4.0 +np.sqrt(3.0)/6.0\n",
    "A[1,1] = 1.0/4.0\n",
    "\n",
    "c = np.zeros(2)\n",
    "c[0] = 1./2.*(1.0+np.sqrt(3.0))\n",
    "c[1] = 1./2.*(1.0-np.sqrt(3.0))\n",
    "\n",
    "b = np.zeros(2)\n",
    "b[0] = 1./2.\n",
    "b[1] = 1./2.\n",
    "\n",
    "\n",
    "t = t0\n",
    "\n",
    "n = 1\n",
    "\n",
    "step = 1\n",
    "\n",
    "k = np.zeros(2*n)\n",
    "\n",
    "\n",
    "while  (step <= Nstep): # main Runge-Kutta loop\n",
    "\n",
    "    step = step+1\n",
    "    \n",
    "#   Gauss-Legendre Runge-Kutta of order 4\n",
    "    \n",
    "    error = 1.0\n",
    "    iters = 0\n",
    "\n",
    "    maxit=1000; tol=1.e-15; h=1.e-15\n",
    "    \n",
    "    while (iters<=maxit and error >= tol): # complex-Newton loop\n",
    "\n",
    "    \n",
    "        J = LinearOperator( (len(k),len(k)), matvec=mv )\n",
    "        \n",
    "        r = h*f(k)\n",
    "                \n",
    "        atol = 1.e-25\n",
    "        (r, info) = lgmres(J, r, k, rtol=1.e-25, maxiter=1000, atol=1.e-25)\n",
    "        \n",
    "        k = k - r # complex-Newton step update\n",
    "        \n",
    "        error = npl.norm(r,np.inf)\n",
    "\n",
    "        iters+=1\n",
    "\n",
    "    t = t+dt\n",
    "\n",
    "    \n",
    "    k1 = k[:n]\n",
    "    k2 = k[n:]\n",
    "    \n",
    "    y = y + dt*(b[0]*k1+b[1]*k2)\n",
    "    \n",
    "    \n",
    "    solution=np.append(solution,y)\n",
    "    time = np.append(time,t)"
   ]
  },
  {
   "cell_type": "code",
   "execution_count": 14,
   "id": "3e8e4da0",
   "metadata": {},
   "outputs": [
    {
     "data": {
      "text/plain": [
       "[<matplotlib.lines.Line2D at 0x117a6a230>]"
      ]
     },
     "execution_count": 14,
     "metadata": {},
     "output_type": "execute_result"
    },
    {
     "data": {
      "image/png": "[encoded data removed]",
      "text/plain": [
       "<Figure size 640x480 with 1 Axes>"
      ]
     },
     "metadata": {},
     "output_type": "display_data"
    }
   ],
   "source": [
    "plt.plot(time,solution)"
   ]
  }
 ],
 "metadata": {
  "kernelspec": {
   "display_name": "Python 3 (ipykernel)",
   "language": "python",
   "name": "python3"
  },
  "language_info": {
   "codemirror_mode": {
    "name": "ipython",
    "version": 3
   },
   "file_extension": ".py",
   "mimetype": "text/x-python",
   "name": "python",
   "nbconvert_exporter": "python",
   "pygments_lexer": "ipython3",
   "version": "3.10.13"
  }
 },
 "nbformat": 4,
 "nbformat_minor": 5
}
